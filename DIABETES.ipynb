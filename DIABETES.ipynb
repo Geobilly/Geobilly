{
  "cells": [
    {
      "cell_type": "markdown",
      "metadata": {
        "id": "view-in-github",
        "colab_type": "text"
      },
      "source": [
        "<a href=\"https://colab.research.google.com/github/Geobilly/Geobilly/blob/main/DIABETES.ipynb\" target=\"_parent\"><img src=\"https://colab.research.google.com/assets/colab-badge.svg\" alt=\"Open In Colab\"/></a>"
      ]
    },
    {
      "cell_type": "markdown",
      "metadata": {
        "id": "0At7AbXNgJ1x"
      },
      "source": [
        "REAL MODEL"
      ]
    },
    {
      "cell_type": "code",
      "execution_count": 1,
      "metadata": {
        "id": "BfZHuxBDCS6q",
        "colab": {
          "base_uri": "https://localhost:8080/"
        },
        "outputId": "4afdd03b-fee1-408e-f21c-229da0c4d449"
      },
      "outputs": [
        {
          "output_type": "stream",
          "name": "stdout",
          "text": [
            "\n",
            "New Sample Patient Results:\n",
            "Predicted Risk Category: High Risk\n",
            "Predicted Risk Probability: 60.63%\n"
          ]
        }
      ],
      "source": [
        "import pandas as pd\n",
        "from sklearn.linear_model import LogisticRegression\n",
        "from sklearn.preprocessing import StandardScaler\n",
        "\n",
        "\n",
        "# Load the diabetes dataset\n",
        "diabetes = pd.read_csv('/content/diabetes.csv')\n",
        "\n",
        "# Specify the features (X) and the target variable (y)\n",
        "X = diabetes.drop(['Outcome'], axis=1)\n",
        "y = diabetes['Outcome']\n",
        "\n",
        "# Standardize the features using StandardScaler\n",
        "scaler = StandardScaler()\n",
        "X_scaled = scaler.fit_transform(X)\n",
        "\n",
        "# Create a Logistic Regression model with \"one-vs-rest\" strategy\n",
        "logreg_model = LogisticRegression(max_iter=1000)\n",
        "logreg_model.fit(X_scaled, y)\n",
        "\n",
        "# Function to predict using the model with synthetic 'SkinThickness' and 'Insulin'\n",
        "def predict_diabetes_risk(sample_patient, diabetes_data):\n",
        "    # All feature names used during training\n",
        "    features_used = ['Pregnancies', 'Glucose', 'BloodPressure', 'SkinThickness', 'Insulin', 'BMI', 'DiabetesPedigreeFunction', 'Age']\n",
        "\n",
        "    # Create a DataFrame with synthetic values for 'SkinThickness' and 'Insulin'\n",
        "    synthetic_data = pd.DataFrame([sample_patient])\n",
        "\n",
        "    # Calculate the mean values for the missing features from the training data\n",
        "    missing_feature_means = diabetes_data[features_used].mean()\n",
        "\n",
        "    # Fill in missing features with their respective means\n",
        "    for feature in features_used:\n",
        "        if feature not in synthetic_data.columns:\n",
        "            synthetic_data[feature] = missing_feature_means[feature]\n",
        "\n",
        "    # Reorder the columns to match the order during training\n",
        "    synthetic_data = synthetic_data[features_used]\n",
        "\n",
        "    # Standardize the synthetic data\n",
        "    synthetic_data_scaled = scaler.transform(synthetic_data)\n",
        "\n",
        "    # Make predictions using the model\n",
        "    predicted_probabilities = logreg_model.predict_proba(synthetic_data_scaled)\n",
        "    predicted_risk_probability = predicted_probabilities[0][1] * 100\n",
        "\n",
        "    # Determine the risk category based on the threshold\n",
        "    if predicted_risk_probability >= 50:\n",
        "        predicted_risk_category = 'High Risk'\n",
        "    else:\n",
        "        predicted_risk_category = 'Low Risk'\n",
        "\n",
        "    return predicted_risk_category, predicted_risk_probability\n",
        "    return predicted_risk_category,\n",
        "\n",
        "# Example usage:\n",
        "sample_patient = {\n",
        "    \"Pregnancies\": 1,\n",
        "    \"Glucose\": 120,  # Higher glucose level\n",
        "    \"BloodPressure\": 90,  # Normal blood pressure\n",
        "    \"BMI\": 40,  # Lower BMI\n",
        "    \"DiabetesPedigreeFunction\": 1.288,  # Lower pedigree function\n",
        "    \"Age\": 65  # Older age\n",
        "}\n",
        "\n",
        "# Provide the diabetes dataset to calculate missing feature means\n",
        "diabetes_data = pd.read_csv('/content/diabetes.csv')\n",
        "\n",
        "predicted_risk_category, predicted_risk_probability = predict_diabetes_risk(sample_patient, diabetes_data)\n",
        "\n",
        "\n",
        "print(\"\\nNew Sample Patient Results:\")\n",
        "print(f\"Predicted Risk Category: {predicted_risk_category}\")\n",
        "print(f\"Predicted Risk Probability: {predicted_risk_probability:.2f}%\")\n",
        "\n",
        "\n"
      ]
    }
  ],
  "metadata": {
    "colab": {
      "provenance": [],
      "authorship_tag": "ABX9TyPo1B71VAfvDk+sIZcsr1XH",
      "include_colab_link": true
    },
    "kernelspec": {
      "display_name": "Python 3",
      "name": "python3"
    },
    "language_info": {
      "name": "python"
    }
  },
  "nbformat": 4,
  "nbformat_minor": 0
}